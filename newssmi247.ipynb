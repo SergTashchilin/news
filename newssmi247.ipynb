{
 "cells": [
  {
   "cell_type": "code",
   "execution_count": null,
   "metadata": {
    "collapsed": true
   },
   "outputs": [],
   "source": [
    "import requests\n",
    "from bs4 import BeautifulSoup\n",
    "import time\n",
    "user_agent = {'User-agent': 'Mozilla/5.0'}\n",
    "\n",
    "for i in range(104573,109574):\n",
    "    stri = str(i) \n",
    "    page = requests.get('http://smi24x7.ru/news-'+stri, headers = user_agent)\n",
    "    soup = BeautifulSoup(page.text, 'html.parser')\n",
    "\n",
    "    f = open('newssmi/'+'page'+stri+'.txt', 'w')\n",
    "\n",
    "    artist_name_list = soup.find_all(class_='newsstat')\n",
    "    for artist_name in artist_name_list:\n",
    "            names = artist_name.getText().encode('utf-8')\n",
    "            f.write(names+'\\n')\n",
    "            time.sleep(0.000005)\n",
    "    f.close()"
   ]
  }
 ],
 "metadata": {
  "kernelspec": {
   "display_name": "Python 2",
   "language": "python",
   "name": "python2"
  },
  "language_info": {
   "codemirror_mode": {
    "name": "ipython",
    "version": 2
   },
   "file_extension": ".py",
   "mimetype": "text/x-python",
   "name": "python",
   "nbconvert_exporter": "python",
   "pygments_lexer": "ipython2",
   "version": "2.7.13"
  }
 },
 "nbformat": 4,
 "nbformat_minor": 2
}
