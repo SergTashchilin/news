{
 "cells": [
  {
   "cell_type": "code",
   "execution_count": null,
   "metadata": {
    "collapsed": true
   },
   "outputs": [],
   "source": [
    "import requests\n",
    "from bs4 import BeautifulSoup\n",
    "import time\n",
    "user_agent = {'User-agent': 'Mozilla/5.0'}\n",
    "\n",
    "# Collect and parse first page\n",
    "for i in range(52000,68001):\n",
    "    stri = str(i) \n",
    "    page = requests.get('http://www.kremlinrus.ru/news/1/'+stri, headers = user_agent)\n",
    "    soup = BeautifulSoup(page.text, 'html.parser')\n",
    "    #write in txt\n",
    "    f = open('kremlinrus/'+'page'+stri+'.txt', 'w')\n",
    "    \n",
    "    # Pull all text from the BodyText div\n",
    "    artist_name_list = soup.find_all(class_='box_detail')\n",
    "    for artist_name in artist_name_list:\n",
    "            names = artist_name.getText().encode('utf-8')\n",
    "            f.write(names+'\\n')\n",
    "            time.sleep(0.000005)\n",
    "    f.close()\n",
    "    "
   ]
  }
 ],
 "metadata": {
  "kernelspec": {
   "display_name": "Python 2",
   "language": "python",
   "name": "python2"
  },
  "language_info": {
   "codemirror_mode": {
    "name": "ipython",
    "version": 2
   },
   "file_extension": ".py",
   "mimetype": "text/x-python",
   "name": "python",
   "nbconvert_exporter": "python",
   "pygments_lexer": "ipython2",
   "version": "2.7.13"
  }
 },
 "nbformat": 4,
 "nbformat_minor": 2
}
