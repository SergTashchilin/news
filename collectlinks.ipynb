{
 "cells": [
  {
   "cell_type": "code",
   "execution_count": null,
   "metadata": {
    "collapsed": true
   },
   "outputs": [],
   "source": [
    "from bs4 import BeautifulSoup\n",
    "from urllib2 import urlopen\n",
    "import io\n",
    "\n",
    "pages_to_parse=['https://news.rambler.ru/?utm_content=news_media&utm_medium=topline&utm_source=woman_media']\n",
    "parsed_pages=[]\n",
    "site_links=[]\n",
    "\n",
    "while pages_to_parse != []:\n",
    "    current_page = pages_to_parse.pop()\n",
    "    html_doc = urlopen('https://news.rambler.ru/?utm_content=news_media&utm_medium=topline&utm_source=woman_media').read()\n",
    "    soup = BeautifulSoup(html_doc)\n",
    "    collect = soup.find('body') \n",
    "    # в найденном div'е, ищем все ссылки (т.е. теги a).\n",
    "    a_tags_on_page = collect.findAll('a') \n",
    "    links_on_page = []\n",
    "    for link in a_tags_on_page:\n",
    "        links_on_page.append('https://news.rambler.ru'+link.get('href'))\n",
    "    f = open('rambler/'+'pages'+'.txt', 'w')\n",
    "    parsed_pages.append(current_page)\n",
    "    for i in links_on_page:\n",
    "        if i not in site_links:\n",
    "            site_links.append(i)\n",
    "            print(i)\n",
    "    links_on_page = []\n",
    "i=0\n",
    "#запишем в файл\n",
    "while i < len(site_links):\n",
    "    f.write(\"\"+str(i)+\"<a href='\"+str(site_links[i]).decode('utf-8')+\"'></a><br/>\")\n",
    "    i=i+1\n",
    "f.close()"
   ]
  }
 ],
 "metadata": {
  "kernelspec": {
   "display_name": "Python 2",
   "language": "python",
   "name": "python2"
  },
  "language_info": {
   "codemirror_mode": {
    "name": "ipython",
    "version": 2
   },
   "file_extension": ".py",
   "mimetype": "text/x-python",
   "name": "python",
   "nbconvert_exporter": "python",
   "pygments_lexer": "ipython2",
   "version": "2.7.13"
  }
 },
 "nbformat": 4,
 "nbformat_minor": 2
}
